{
  "nbformat": 4,
  "nbformat_minor": 0,
  "metadata": {
    "colab": {
      "provenance": [],
      "authorship_tag": "ABX9TyO9iy9L4msKwt310b3QV1kA"
    },
    "kernelspec": {
      "name": "python3",
      "display_name": "Python 3"
    },
    "language_info": {
      "name": "python"
    }
  },
  "cells": [
    {
      "cell_type": "code",
      "execution_count": null,
      "metadata": {
        "colab": {
          "base_uri": "https://localhost:8080/"
        },
        "id": "utMzp_YgUO6-",
        "outputId": "0c6272d9-ad33-4eb9-a846-228b6106d818"
      },
      "outputs": [
        {
          "output_type": "stream",
          "name": "stdout",
          "text": [
            "100 is greater than 50\n"
          ]
        }
      ],
      "source": [
        "#python Indentation\n",
        "\n",
        "if 100 > 50:\n",
        "  print(\"100 is greater than 50\")"
      ]
    },
    {
      "cell_type": "code",
      "source": [
        "#python Variables\n",
        "x = 50\n",
        "y = 'engineer'\n",
        "print (x , y)"
      ],
      "metadata": {
        "colab": {
          "base_uri": "https://localhost:8080/"
        },
        "id": "2NGOFfe-UvMK",
        "outputId": "287643c5-0706-48f2-d233-f2bb8d7d1249"
      },
      "execution_count": null,
      "outputs": [
        {
          "output_type": "stream",
          "name": "stdout",
          "text": [
            "50 engineer\n"
          ]
        }
      ]
    },
    {
      "cell_type": "code",
      "source": [
        "'creating a comment'"
      ],
      "metadata": {
        "colab": {
          "base_uri": "https://localhost:8080/",
          "height": 36
        },
        "id": "uDS7wny0VXF0",
        "outputId": "b902731a-182f-40af-9421-5d3997645086"
      },
      "execution_count": null,
      "outputs": [
        {
          "output_type": "execute_result",
          "data": {
            "text/plain": [
              "'creating a comment'"
            ],
            "application/vnd.google.colaboratory.intrinsic+json": {
              "type": "string"
            }
          },
          "metadata": {},
          "execution_count": 6
        }
      ]
    },
    {
      "cell_type": "code",
      "source": [
        " # this is a comment\n",
        " \"\"\" this is also a comment\n",
        " written in more than just one line\"\"\""
      ],
      "metadata": {
        "colab": {
          "base_uri": "https://localhost:8080/",
          "height": 36
        },
        "id": "L-zKcFW5VBvL",
        "outputId": "b74d318d-bfe4-4228-8636-869fc7fd9da1"
      },
      "execution_count": null,
      "outputs": [
        {
          "output_type": "execute_result",
          "data": {
            "text/plain": [
              "' this is also a comment\\nwritten in more than just one line'"
            ],
            "application/vnd.google.colaboratory.intrinsic+json": {
              "type": "string"
            }
          },
          "metadata": {},
          "execution_count": 7
        }
      ]
    },
    {
      "cell_type": "code",
      "source": [
        "#casting: used to specify the data type of a variable\n",
        "\n",
        "x= str('abc')\n",
        "y= int(3.001)\n",
        "z= float (1023)"
      ],
      "metadata": {
        "id": "x5feBlWiVUN9"
      },
      "execution_count": null,
      "outputs": []
    },
    {
      "cell_type": "code",
      "source": [
        "print (x, y, z)"
      ],
      "metadata": {
        "colab": {
          "base_uri": "https://localhost:8080/"
        },
        "id": "awD88ZGcWOUI",
        "outputId": "219823ec-4a30-4f62-9999-431df2525fce"
      },
      "execution_count": null,
      "outputs": [
        {
          "output_type": "stream",
          "name": "stdout",
          "text": [
            "abc 3 1023.0\n"
          ]
        }
      ]
    },
    {
      "cell_type": "code",
      "source": [
        "# type () function helps to determine the data type of a variable\n",
        "print (type(x))\n",
        "print (type(y))\n",
        "print (type(z))"
      ],
      "metadata": {
        "colab": {
          "base_uri": "https://localhost:8080/"
        },
        "id": "xRtc5xjnWV7U",
        "outputId": "2b98e5b3-c948-43c5-aff2-a245fbf2aa9d"
      },
      "execution_count": null,
      "outputs": [
        {
          "output_type": "stream",
          "name": "stdout",
          "text": [
            "<class 'str'>\n",
            "<class 'int'>\n",
            "<class 'float'>\n"
          ]
        }
      ]
    },
    {
      "cell_type": "code",
      "source": [
        "\"\"\" Variables are case sensitive\"\"\"\n",
        "a=\"i am a student\"\n",
        "A = 55\n",
        "print (a)\n",
        "print(A)"
      ],
      "metadata": {
        "colab": {
          "base_uri": "https://localhost:8080/"
        },
        "id": "hrylBRIOWjdG",
        "outputId": "e1a7d4ad-9949-4d47-fe77-b634768e09d7"
      },
      "execution_count": null,
      "outputs": [
        {
          "output_type": "stream",
          "name": "stdout",
          "text": [
            "i am a student\n",
            "55\n"
          ]
        }
      ]
    },
    {
      "cell_type": "code",
      "source": [
        "\"\"\" Variable names with more than one word  can be difficult to read. so different techniques\"\"\"\n",
        "# camel case: each word except first starts with a capital letter\n",
        "myVariable = 'Swornima'\n",
        "#pascal case:  each word starts with a capital letter\n",
        "MyVariable = 'Swornima'\n",
        "#snake case: each word is separated by an underscore character\n",
        "my_variable = 'Swornima'\n",
        "\n"
      ],
      "metadata": {
        "id": "7_pso9eiW3kh"
      },
      "execution_count": null,
      "outputs": []
    },
    {
      "cell_type": "code",
      "source": [
        "# python variables - assign multiple values"
      ],
      "metadata": {
        "id": "3i3IsVBCXnGQ"
      },
      "execution_count": null,
      "outputs": []
    },
    {
      "cell_type": "code",
      "source": [
        "x , y, z= 'rose', 'age', 'apple'\n",
        "print(x)\n",
        "print(y)\n",
        "print(z)"
      ],
      "metadata": {
        "colab": {
          "base_uri": "https://localhost:8080/"
        },
        "id": "umrXlrzIXyQR",
        "outputId": "74a51eef-2595-4d6f-9a2d-0f3c81e93bc9"
      },
      "execution_count": null,
      "outputs": [
        {
          "output_type": "stream",
          "name": "stdout",
          "text": [
            "rose\n",
            "age\n",
            "apple\n"
          ]
        }
      ]
    },
    {
      "cell_type": "code",
      "source": [
        "# you can also assign same value to multiple variables in one line:\n",
        "x=y=z= \"i love nepal\"\n",
        "print (x)\n",
        "print(y)\n",
        "print(z)\n"
      ],
      "metadata": {
        "colab": {
          "base_uri": "https://localhost:8080/"
        },
        "id": "Lfr2nK7RYAjM",
        "outputId": "34b8fe3e-df4a-43c1-c10b-8942a14ef2d8"
      },
      "execution_count": null,
      "outputs": [
        {
          "output_type": "stream",
          "name": "stdout",
          "text": [
            "i love nepal\n",
            "i love nepal\n",
            "i love nepal\n"
          ]
        }
      ]
    },
    {
      "cell_type": "code",
      "source": [
        "# unpacking\n",
        "\n",
        "flowers = (\"rose\", \"lily\", \"daisy\")\n",
        "x, y, z = flowers\n",
        "print(x)\n",
        "print(y)\n",
        "print(z)"
      ],
      "metadata": {
        "colab": {
          "base_uri": "https://localhost:8080/"
        },
        "id": "AcroG8PwbM0Z",
        "outputId": "a3f8c82b-d85f-4af5-d5d5-ef434c020974"
      },
      "execution_count": null,
      "outputs": [
        {
          "output_type": "stream",
          "name": "stdout",
          "text": [
            "rose\n",
            "lily\n",
            "daisy\n"
          ]
        }
      ]
    },
    {
      "cell_type": "code",
      "source": [
        "#Global variables\n",
        "x= 'nepal'\n",
        "\n",
        "def myfunc():\n",
        "  print (\"Everest is located in \" + x)\n",
        "\n",
        "myfunc()\n",
        "\n"
      ],
      "metadata": {
        "colab": {
          "base_uri": "https://localhost:8080/"
        },
        "id": "GzsWZR-Fbi-X",
        "outputId": "562848d7-a4e7-47fd-8c39-0c3e498ad1ce"
      },
      "execution_count": null,
      "outputs": [
        {
          "output_type": "stream",
          "name": "stdout",
          "text": [
            "Everest is located in nepal\n"
          ]
        }
      ]
    },
    {
      "cell_type": "code",
      "source": [
        "x= 'nepal'\n",
        "\n",
        "def myfunc():\n",
        "  x='kathmandu'\n",
        "  print (\"capital city of nepal  is \" + x)\n",
        "\n",
        "myfunc()\n",
        "print (\"Everest is located in \" + x)"
      ],
      "metadata": {
        "colab": {
          "base_uri": "https://localhost:8080/"
        },
        "id": "dhgFvvOncKbt",
        "outputId": "b4c65965-d173-4cec-89f0-32265843aa4e"
      },
      "execution_count": null,
      "outputs": [
        {
          "output_type": "stream",
          "name": "stdout",
          "text": [
            "capital city of nepal  is kathmandu\n",
            "Everest is located in nepal\n"
          ]
        }
      ]
    },
    {
      "cell_type": "code",
      "source": [
        " def myfunc():\n",
        "  global x\n",
        "  x='love'\n",
        "\n",
        "myfunc()\n",
        "\n",
        "print ('i ' +x + ' nepal')"
      ],
      "metadata": {
        "colab": {
          "base_uri": "https://localhost:8080/"
        },
        "id": "D6tffskgcaYw",
        "outputId": "246a1c7f-10e7-4761-cdbb-5b1a50d2534d"
      },
      "execution_count": null,
      "outputs": [
        {
          "output_type": "stream",
          "name": "stdout",
          "text": [
            "i love nepal\n"
          ]
        }
      ]
    },
    {
      "cell_type": "code",
      "source": [],
      "metadata": {
        "id": "Q_5MHSHac08n"
      },
      "execution_count": null,
      "outputs": []
    }
  ]
}